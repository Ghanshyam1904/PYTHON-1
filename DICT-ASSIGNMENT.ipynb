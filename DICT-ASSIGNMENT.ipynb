{
 "cells": [
  {
   "cell_type": "markdown",
   "id": "944bc0eb-853a-4900-a947-e4a8c78bf88f",
   "metadata": {},
   "source": [
    "#Q1. How do you comment code in Python? What are the different types of comments?\n",
    "\n",
    "Comments:- The purpose of comment is to avoid the execution of a line or multiple lines ex:- We can write logic of the code\n",
    "\n",
    "In python there are 2 technique for comment in python i.e (#) and single codd and double codd string(''') (\"\"\")\n",
    "\n",
    "# :- This comment is used for single line purpose\n",
    "(''' or \"\"\") :- This comment is used for multi-line purpose"
   ]
  },
  {
   "cell_type": "code",
   "execution_count": null,
   "id": "bb0726c6-cfcd-4097-a6e2-99ad8b270d93",
   "metadata": {},
   "outputs": [],
   "source": [
    "#Q2. What are variables in Python? How do you declare and assign values to variables?\n",
    "\n",
    "Variables :- Variable is a name of memory location where we can store values\n",
    "\n",
    "Declaration :- Python has no command to decalre a variable\n",
    "\n",
    "Initialization :- a = 0,boolean = True ,str = 'Ghanshyam'"
   ]
  },
  {
   "cell_type": "code",
   "execution_count": 1,
   "id": "44e3b488-779f-4c4a-acc7-5475e0bf8cda",
   "metadata": {},
   "outputs": [],
   "source": [
    "#Q3. How do you convert one data type to another in Python?\n",
    "\n",
    "lst = [10,20,30,40]\n",
    "tup = tuple(lst)"
   ]
  },
  {
   "cell_type": "code",
   "execution_count": 2,
   "id": "888680d1-4dc6-4a61-a3b1-28e8b9b9fad7",
   "metadata": {},
   "outputs": [
    {
     "data": {
      "text/plain": [
       "(10, 20, 30, 40)"
      ]
     },
     "execution_count": 2,
     "metadata": {},
     "output_type": "execute_result"
    }
   ],
   "source": [
    "tup"
   ]
  },
  {
   "cell_type": "code",
   "execution_count": null,
   "id": "25e2a53a-f6d3-4619-b10c-a7b3087da45b",
   "metadata": {},
   "outputs": [],
   "source": [
    "#Q4. How do you write and execute a Python script from the command line?\n",
    "\n",
    "Install Python in our local system and open python command prompt and where you can write code"
   ]
  },
  {
   "cell_type": "code",
   "execution_count": 3,
   "id": "174e2f3e-436a-431a-98c2-59aaaaf4bcfd",
   "metadata": {},
   "outputs": [
    {
     "name": "stdout",
     "output_type": "stream",
     "text": [
      "[2, 3]\n"
     ]
    }
   ],
   "source": [
    "#Q5. Given a list my_list = [1, 2, 3, 4, 5], write the code to slice the list and obtain the sub-list [2, 3].\n",
    "\n",
    "lst = [1,2,3,4,5]\n",
    "print(lst[1:3])"
   ]
  },
  {
   "cell_type": "code",
   "execution_count": 5,
   "id": "93318747-e04d-4452-aa9b-6bcda65c7bb2",
   "metadata": {},
   "outputs": [
    {
     "name": "stdout",
     "output_type": "stream",
     "text": [
      "3.0\n",
      "2.0\n"
     ]
    }
   ],
   "source": [
    "# Q6. What is a complex number in mathematics, and how is it represented in Python?\n",
    "\n",
    "#consists of two values, the first one is the real part of the complex number, and the second one is the \n",
    "#imaginary part of the complex number\n",
    "\n",
    "#representation :-\n",
    "a = 2+3j\n",
    "print(a.imag)\n",
    "print(a.real)\n"
   ]
  },
  {
   "cell_type": "code",
   "execution_count": null,
   "id": "5f11b901-f0c1-4e24-8f3b-a50c0c2321e3",
   "metadata": {},
   "outputs": [],
   "source": [
    "# Q7. What is the correct way to declare a variable named age and assign the value 25 to it?\n",
    "\n",
    "age = 25"
   ]
  },
  {
   "cell_type": "code",
   "execution_count": 6,
   "id": "c0c87bd8-5d18-4e26-bf32-6092a561289e",
   "metadata": {},
   "outputs": [
    {
     "name": "stdout",
     "output_type": "stream",
     "text": [
      "<class 'float'>\n"
     ]
    }
   ],
   "source": [
    "# Q8. Declare a variable named price and assign the value 9.99 to it. What data type does this variable\n",
    "# belong to?\n",
    "\n",
    "price = 9.99\n",
    "print(type(price))"
   ]
  },
  {
   "cell_type": "code",
   "execution_count": 7,
   "id": "c1fe7677-cc57-471f-ab0a-d8c73b0f6f6a",
   "metadata": {},
   "outputs": [
    {
     "name": "stdout",
     "output_type": "stream",
     "text": [
      "GHANSHYAM MOHAN PAIL\n"
     ]
    }
   ],
   "source": [
    "# Q9. Create a variable named name and assign your full name to it as a string. How would you print the\n",
    "# value of this variable?\n",
    "\n",
    "name = 'GHANSHYAM MOHAN PAIL'\n",
    "print(name)"
   ]
  },
  {
   "cell_type": "code",
   "execution_count": 8,
   "id": "76ffbe7e-fa96-4941-b49f-382791911f3b",
   "metadata": {},
   "outputs": [
    {
     "name": "stdout",
     "output_type": "stream",
     "text": [
      "World\n"
     ]
    }
   ],
   "source": [
    "# Q10. Given the string \"Hello, World!\", extract the substring \"World\".\n",
    "\n",
    "str = \"Hello, World!\"\n",
    "print(str[7:12])"
   ]
  },
  {
   "cell_type": "code",
   "execution_count": null,
   "id": "d8673b79-b2f7-46b6-b52d-5cee0db69fda",
   "metadata": {},
   "outputs": [],
   "source": [
    "# Q11. Create a variable named \"is_student\" and assign it a boolean value indicating whether you are\n",
    "currently a student or not."
   ]
  }
 ],
 "metadata": {
  "kernelspec": {
   "display_name": "Python 3 (ipykernel)",
   "language": "python",
   "name": "python3"
  },
  "language_info": {
   "codemirror_mode": {
    "name": "ipython",
    "version": 3
   },
   "file_extension": ".py",
   "mimetype": "text/x-python",
   "name": "python",
   "nbconvert_exporter": "python",
   "pygments_lexer": "ipython3",
   "version": "3.10.8"
  }
 },
 "nbformat": 4,
 "nbformat_minor": 5
}
