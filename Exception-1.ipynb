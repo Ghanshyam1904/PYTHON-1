{
 "cells": [
  {
   "cell_type": "markdown",
   "id": "2d548a2b-c0c8-43fa-aad4-f92cb24be6cd",
   "metadata": {},
   "source": [
    "# Q1. Wht is an Exception in python ? Write the difference between\n",
    "# Exception and Sysntax error\n",
    "\n",
    "Exception :- Exception is used to convert logical error message to user-friendly message\n",
    "\n",
    "Exception :- 1) Exception is used to convert logical error message to user-friendly message\n",
    "             2) In exception there have some blocks to handle exception\n",
    "             3) We can convert error msg to user requirement  using custome Exception handling\n",
    "             \n",
    "Sysntax Error:- 1) Syntax Error Occured When we do mistake on syntax.\n",
    "                2) Syntax Error msg are complicated we cant do next execution withut\n",
    "                solving the error"
   ]
  },
  {
   "cell_type": "code",
   "execution_count": 2,
   "id": "20a451e3-1925-4729-88ea-b57f2171e130",
   "metadata": {},
   "outputs": [
    {
     "name": "stdout",
     "output_type": "stream",
     "text": [
      "Divide By Zero\n"
     ]
    }
   ],
   "source": [
    "# 2) What happen when exception is not handle ? Explain with example\n",
    "\n",
    "try:\n",
    "    5/0\n",
    "except ZeroDivisionError:\n",
    "    print(\"Divide By Zero\")"
   ]
  },
  {
   "cell_type": "markdown",
   "id": "9133202d-b953-43a1-b117-f96fc317e5db",
   "metadata": {},
   "source": [
    "# 3) Which stmts is used to catch and hancled the exception\n",
    "\n",
    "1) try:- in try block we can catch the exception\n",
    "2) except :- in except block we can handle the exception"
   ]
  },
  {
   "cell_type": "markdown",
   "id": "55059caa-ff9e-4eb0-b2aa-1e4585ebb8c1",
   "metadata": {},
   "source": [
    "# 4) Explain with example\n",
    "1) try:-in try block we can catch the exception\n",
    "2) except :- in except block we can handle the exception\n",
    "3) Finally :- this block is optional if exception occured or not it will always\n",
    "              execute\n",
    "4) else:- this block is optional if exception is not occured then this block \n",
    "          is execute"
   ]
  },
  {
   "cell_type": "markdown",
   "id": "7b7872eb-4686-43f5-b632-0465eca5be2a",
   "metadata": {},
   "source": [
    "5) What are custome exception in python ? Why it necessary ? Explain with example\n",
    "\n",
    "Custome Exception :- We can create programmer defined exception to handle error\n",
    "Why it necessary :- in exception class there have limited exception so we need custome exception"
   ]
  },
  {
   "cell_type": "code",
   "execution_count": 20,
   "id": "b88bcc63-18b6-42fe-a3e5-f125be62eedd",
   "metadata": {},
   "outputs": [
    {
     "name": "stdin",
     "output_type": "stream",
     "text": [
      "Enter any number =  dyt\n"
     ]
    },
    {
     "name": "stdout",
     "output_type": "stream",
     "text": [
      "invalid literal for int() with base 10: 'dyt'\n"
     ]
    }
   ],
   "source": [
    "import logging as log\n",
    "log.basicConfig(filename='text',level=log.INFO,format='%(message)s')\n",
    "\n",
    "class ValueErr(Exception):\n",
    "    def __init__(self,msg):\n",
    "        self.msg = msg\n",
    "\n",
    "def Error(no):\n",
    "    if type(no) == str:\n",
    "        raise ValueErr('Number is int not str')\n",
    "    elif type(no) == float:\n",
    "        raise ValueErr('Number is int Not Float')\n",
    "    else:\n",
    "        print(no)\n",
    "        \n",
    "try:\n",
    "    n = int(input(\"Enter any number = \"))\n",
    "    Error(n)\n",
    "except ValueError as e:\n",
    "    print(e)"
   ]
  },
  {
   "cell_type": "code",
   "execution_count": null,
   "id": "4fa4824d-eee8-40a6-9bc7-f3c040de150f",
   "metadata": {},
   "outputs": [],
   "source": []
  }
 ],
 "metadata": {
  "kernelspec": {
   "display_name": "Python 3 (ipykernel)",
   "language": "python",
   "name": "python3"
  },
  "language_info": {
   "codemirror_mode": {
    "name": "ipython",
    "version": 3
   },
   "file_extension": ".py",
   "mimetype": "text/x-python",
   "name": "python",
   "nbconvert_exporter": "python",
   "pygments_lexer": "ipython3",
   "version": "3.10.8"
  }
 },
 "nbformat": 4,
 "nbformat_minor": 5
}
