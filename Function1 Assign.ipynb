{
 "cells": [
  {
   "cell_type": "code",
   "execution_count": 32,
   "id": "5aa46d46-8602-4b67-a02f-4aa9e0875dbb",
   "metadata": {},
   "outputs": [
    {
     "name": "stdout",
     "output_type": "stream",
     "text": [
      "[1, 3, 5, 7, 9, 11, 13, 15, 17, 19, 21, 23, 25]\n"
     ]
    }
   ],
   "source": [
    "#Q1. Which keyword is used to create a function? Create a function to return a list of odd numbers in the\n",
    "#range of 1 to 25.\n",
    "\n",
    "#KeyWord:- def \n",
    "\n",
    "def retrun_list():\n",
    "    l1 = []\n",
    "    lst = []\n",
    "    for i in range(1,26):\n",
    "        lst.append(i)\n",
    "        if i % 2 != 0:\n",
    "            l1.append(i)\n",
    "    return l1\n",
    "\n",
    "l2 = retrun_list()\n",
    "print(l2)"
   ]
  },
  {
   "cell_type": "code",
   "execution_count": 33,
   "id": "2951b376-1ff3-4a17-925f-2fd4656f8d0b",
   "metadata": {},
   "outputs": [
    {
     "data": {
      "text/plain": [
       "(10, 20, 30, 40, 50, 60)"
      ]
     },
     "execution_count": 33,
     "metadata": {},
     "output_type": "execute_result"
    }
   ],
   "source": [
    "#  Q2. Why *args and **kwargs is used in some functions? Create a function each for *args and **kwargs\n",
    "# to demonstrate their use.\n",
    "\n",
    "#  *args :- This parameter is used to store sigle or multiple parameter wtih different data types\n",
    "#  **args :- This parameter is used to store data in the form of key,value pair like Dict\n",
    "\n",
    "def t1(*args):\n",
    "    return args\n",
    "t1(10,20,30,40,50,60)"
   ]
  },
  {
   "cell_type": "code",
   "execution_count": 37,
   "id": "eb2b023a-c48b-48c9-9c09-1dd84fd31323",
   "metadata": {},
   "outputs": [
    {
     "data": {
      "text/plain": [
       "{'a': 'ten', 'b': 'Twenty', 'c': 'Thirty'}"
      ]
     },
     "execution_count": 37,
     "metadata": {},
     "output_type": "execute_result"
    }
   ],
   "source": [
    "def t2(**args):\n",
    "    return args\n",
    "\n",
    "t2(a='ten',b='Twenty',c='Thirty')"
   ]
  },
  {
   "cell_type": "code",
   "execution_count": 41,
   "id": "d58c657b-39b9-4320-b38d-507c89b1cf7f",
   "metadata": {},
   "outputs": [
    {
     "data": {
      "text/plain": [
       "2"
      ]
     },
     "execution_count": 41,
     "metadata": {},
     "output_type": "execute_result"
    }
   ],
   "source": [
    "# Q3. What is an iterator in python? Name the method used to initialise the iterator object and the method\n",
    "#used for iteration. Use these methods to print the first five elements of the given list [2, 4, 6, 8, 10, 12, 14,\n",
    "# 16, 18, 20].\n",
    "\n",
    "#  Iterators :-  Iterator is used to retrieve sequnce of data in the iterable object\n",
    "lst = [2,4,6,8,10,12,14,16,18,20]\n",
    "l1 = iter(lst)\n",
    "\n",
    "next(l1)"
   ]
  },
  {
   "cell_type": "code",
   "execution_count": 42,
   "id": "3c9ce336-829c-4efe-a3ae-acb90184b4b9",
   "metadata": {},
   "outputs": [
    {
     "data": {
      "text/plain": [
       "4"
      ]
     },
     "execution_count": 42,
     "metadata": {},
     "output_type": "execute_result"
    }
   ],
   "source": [
    "next(l1)"
   ]
  },
  {
   "cell_type": "code",
   "execution_count": 43,
   "id": "d7c4f0c9-72d9-48f5-b85b-e2dfd62b05e6",
   "metadata": {},
   "outputs": [
    {
     "data": {
      "text/plain": [
       "6"
      ]
     },
     "execution_count": 43,
     "metadata": {},
     "output_type": "execute_result"
    }
   ],
   "source": [
    "next(l1)"
   ]
  },
  {
   "cell_type": "code",
   "execution_count": 44,
   "id": "5ca282c3-39cf-4513-acf5-cdeb363ac633",
   "metadata": {},
   "outputs": [
    {
     "data": {
      "text/plain": [
       "8"
      ]
     },
     "execution_count": 44,
     "metadata": {},
     "output_type": "execute_result"
    }
   ],
   "source": [
    "next(l1)"
   ]
  },
  {
   "cell_type": "code",
   "execution_count": 45,
   "id": "3e3cf815-e593-43fa-8357-824b3fe9804a",
   "metadata": {},
   "outputs": [
    {
     "data": {
      "text/plain": [
       "10"
      ]
     },
     "execution_count": 45,
     "metadata": {},
     "output_type": "execute_result"
    }
   ],
   "source": [
    "next(l1)"
   ]
  },
  {
   "cell_type": "code",
   "execution_count": 53,
   "id": "066dc00f-68dd-4835-b06c-901253f307bb",
   "metadata": {},
   "outputs": [
    {
     "name": "stdout",
     "output_type": "stream",
     "text": [
      "0\n",
      "1\n",
      "1\n",
      "2\n",
      "3\n",
      "5\n",
      "8\n",
      "13\n",
      "21\n",
      "34\n",
      "55\n"
     ]
    }
   ],
   "source": [
    "#  Q4. What is a generator function in python? Why yield keyword is used? Give an example of a generator\n",
    "# function.\n",
    "\n",
    "#  Generator :- A Generator function is used for storing a data and adjecently retrieving a data from iterable object\n",
    "# or recursion\n",
    "\n",
    "# Yield:- Yield is a keyword in python This keyword mainly used in Generators for storing temporary iterable data \n",
    "\n",
    "\n",
    "def fun1(no):\n",
    "    a,b = 0,1\n",
    "    for i in range(no+1):\n",
    "        yield a\n",
    "        a,b = b,a+b\n",
    "\n",
    "for i in fun1(10):\n",
    "    print(i)"
   ]
  },
  {
   "cell_type": "code",
   "execution_count": 12,
   "id": "1fb0c8bd-371a-4ec0-8ee3-698bf718275d",
   "metadata": {},
   "outputs": [],
   "source": [
    "# Q5. Create a generator function for prime numbers less than 1000. Use the next() method to print the\n",
    "# first 20 prime numbers.\n",
    "\n",
    "def isPrime():\n",
    "    lst = []\n",
    "    for i in range(1,1001):\n",
    "        res = True\n",
    "        for j in range(2,i):\n",
    "            if i %  j == 0:\n",
    "                res = False\n",
    "                break\n",
    "        if res == True:\n",
    "            yield i\n",
    "            lst.append(i)\n",
    "    return lst\n",
    "\n",
    "s1 = iter(isPrime())"
   ]
  },
  {
   "cell_type": "code",
   "execution_count": 13,
   "id": "5e91cab9-38dc-4405-a591-c5fb9162bdaa",
   "metadata": {},
   "outputs": [
    {
     "data": {
      "text/plain": [
       "1"
      ]
     },
     "execution_count": 13,
     "metadata": {},
     "output_type": "execute_result"
    }
   ],
   "source": [
    "next(s1)"
   ]
  },
  {
   "cell_type": "code",
   "execution_count": 14,
   "id": "73de4b57-405f-4c5a-9b80-03cf673eb589",
   "metadata": {},
   "outputs": [
    {
     "data": {
      "text/plain": [
       "2"
      ]
     },
     "execution_count": 14,
     "metadata": {},
     "output_type": "execute_result"
    }
   ],
   "source": [
    "next(s1)"
   ]
  },
  {
   "cell_type": "code",
   "execution_count": 15,
   "id": "776f1e7f-efa8-476c-9bf1-2616f5228d4e",
   "metadata": {},
   "outputs": [
    {
     "data": {
      "text/plain": [
       "3"
      ]
     },
     "execution_count": 15,
     "metadata": {},
     "output_type": "execute_result"
    }
   ],
   "source": [
    "next(s1)"
   ]
  },
  {
   "cell_type": "code",
   "execution_count": 16,
   "id": "130043df-5b28-4391-b03c-492fc62f90f4",
   "metadata": {},
   "outputs": [
    {
     "data": {
      "text/plain": [
       "5"
      ]
     },
     "execution_count": 16,
     "metadata": {},
     "output_type": "execute_result"
    }
   ],
   "source": [
    "next(s1)"
   ]
  },
  {
   "cell_type": "code",
   "execution_count": 17,
   "id": "e93a36f9-2a28-4e12-a40c-0631b468acf8",
   "metadata": {},
   "outputs": [
    {
     "data": {
      "text/plain": [
       "7"
      ]
     },
     "execution_count": 17,
     "metadata": {},
     "output_type": "execute_result"
    }
   ],
   "source": [
    "next(s1)"
   ]
  },
  {
   "cell_type": "code",
   "execution_count": 18,
   "id": "a95585fe-6e75-4783-bd36-dabca8ee6e2c",
   "metadata": {},
   "outputs": [
    {
     "data": {
      "text/plain": [
       "11"
      ]
     },
     "execution_count": 18,
     "metadata": {},
     "output_type": "execute_result"
    }
   ],
   "source": [
    "next(s1)"
   ]
  },
  {
   "cell_type": "code",
   "execution_count": 19,
   "id": "b3f5130c-556e-476f-b0b1-d378e1bd0172",
   "metadata": {},
   "outputs": [
    {
     "data": {
      "text/plain": [
       "13"
      ]
     },
     "execution_count": 19,
     "metadata": {},
     "output_type": "execute_result"
    }
   ],
   "source": [
    "next(s1)"
   ]
  },
  {
   "cell_type": "code",
   "execution_count": 20,
   "id": "d39d92a5-7550-4f92-ab4a-b6ab49a784e3",
   "metadata": {},
   "outputs": [
    {
     "data": {
      "text/plain": [
       "17"
      ]
     },
     "execution_count": 20,
     "metadata": {},
     "output_type": "execute_result"
    }
   ],
   "source": [
    "next(s1)"
   ]
  },
  {
   "cell_type": "code",
   "execution_count": 21,
   "id": "45323f73-db96-4ce8-8f44-84589e75521b",
   "metadata": {},
   "outputs": [
    {
     "data": {
      "text/plain": [
       "19"
      ]
     },
     "execution_count": 21,
     "metadata": {},
     "output_type": "execute_result"
    }
   ],
   "source": [
    "next(s1)"
   ]
  },
  {
   "cell_type": "code",
   "execution_count": 22,
   "id": "27b29509-56f9-4e83-a585-a77a9111b862",
   "metadata": {},
   "outputs": [
    {
     "data": {
      "text/plain": [
       "23"
      ]
     },
     "execution_count": 22,
     "metadata": {},
     "output_type": "execute_result"
    }
   ],
   "source": [
    "next(s1)"
   ]
  },
  {
   "cell_type": "code",
   "execution_count": 23,
   "id": "95936661-b746-4fc1-8d96-b255ac63e791",
   "metadata": {},
   "outputs": [
    {
     "data": {
      "text/plain": [
       "29"
      ]
     },
     "execution_count": 23,
     "metadata": {},
     "output_type": "execute_result"
    }
   ],
   "source": [
    "next(s1)"
   ]
  },
  {
   "cell_type": "code",
   "execution_count": 24,
   "id": "bcdf1ca2-b43d-4b24-818c-cab6d37dd342",
   "metadata": {},
   "outputs": [
    {
     "data": {
      "text/plain": [
       "31"
      ]
     },
     "execution_count": 24,
     "metadata": {},
     "output_type": "execute_result"
    }
   ],
   "source": [
    "next(s1)"
   ]
  },
  {
   "cell_type": "code",
   "execution_count": 25,
   "id": "9990a3ef-63e3-4b3c-b9c7-95196e68bf1e",
   "metadata": {},
   "outputs": [
    {
     "data": {
      "text/plain": [
       "37"
      ]
     },
     "execution_count": 25,
     "metadata": {},
     "output_type": "execute_result"
    }
   ],
   "source": [
    "next(s1)"
   ]
  },
  {
   "cell_type": "code",
   "execution_count": 26,
   "id": "3c58865d-644a-44c2-a087-42029cacf416",
   "metadata": {},
   "outputs": [
    {
     "data": {
      "text/plain": [
       "41"
      ]
     },
     "execution_count": 26,
     "metadata": {},
     "output_type": "execute_result"
    }
   ],
   "source": [
    "next(s1)"
   ]
  },
  {
   "cell_type": "code",
   "execution_count": 27,
   "id": "628ca14f-f858-4bab-accd-0db21cfc5b40",
   "metadata": {},
   "outputs": [
    {
     "data": {
      "text/plain": [
       "43"
      ]
     },
     "execution_count": 27,
     "metadata": {},
     "output_type": "execute_result"
    }
   ],
   "source": [
    "next(s1)"
   ]
  },
  {
   "cell_type": "code",
   "execution_count": 28,
   "id": "af681e9f-ccde-4803-9f0e-15a4a526b0a6",
   "metadata": {},
   "outputs": [
    {
     "data": {
      "text/plain": [
       "47"
      ]
     },
     "execution_count": 28,
     "metadata": {},
     "output_type": "execute_result"
    }
   ],
   "source": [
    "next(s1)"
   ]
  },
  {
   "cell_type": "code",
   "execution_count": 29,
   "id": "0119acb2-ca56-4f2e-802a-fb9ce96592de",
   "metadata": {},
   "outputs": [
    {
     "data": {
      "text/plain": [
       "53"
      ]
     },
     "execution_count": 29,
     "metadata": {},
     "output_type": "execute_result"
    }
   ],
   "source": [
    "next(s1)"
   ]
  },
  {
   "cell_type": "code",
   "execution_count": 30,
   "id": "feb415ef-8b77-43bf-ac85-ef675b20dc9c",
   "metadata": {},
   "outputs": [
    {
     "data": {
      "text/plain": [
       "59"
      ]
     },
     "execution_count": 30,
     "metadata": {},
     "output_type": "execute_result"
    }
   ],
   "source": [
    "next(s1)"
   ]
  },
  {
   "cell_type": "code",
   "execution_count": 31,
   "id": "f31238b2-5b10-4382-aca1-4b455f7848a7",
   "metadata": {},
   "outputs": [
    {
     "data": {
      "text/plain": [
       "61"
      ]
     },
     "execution_count": 31,
     "metadata": {},
     "output_type": "execute_result"
    }
   ],
   "source": [
    "next(s1)"
   ]
  },
  {
   "cell_type": "code",
   "execution_count": 32,
   "id": "0309d8bb-de50-4c5d-8eb2-35da85b1e74c",
   "metadata": {},
   "outputs": [
    {
     "data": {
      "text/plain": [
       "67"
      ]
     },
     "execution_count": 32,
     "metadata": {},
     "output_type": "execute_result"
    }
   ],
   "source": [
    "next(s1)"
   ]
  },
  {
   "cell_type": "code",
   "execution_count": 38,
   "id": "da5e9e11-ba21-46be-b455-883721947ec2",
   "metadata": {},
   "outputs": [
    {
     "name": "stdout",
     "output_type": "stream",
     "text": [
      "1\n",
      "1\n",
      "2\n",
      "3\n",
      "5\n",
      "8\n",
      "13\n",
      "21\n",
      "34\n",
      "55\n",
      "89\n"
     ]
    }
   ],
   "source": [
    "# Q6. Write a python program to print the first 10 Fibonacci numbers using a while loop.\n",
    "def fibbo(n):\n",
    "\ta,b = 0,1\n",
    "\ti = 0\n",
    "\twhile i <= n:\n",
    "\t\ta,b = b,a+b\n",
    "\t\tprint(a)\n",
    "\t\ti = i+1\n",
    "fibbo(10)"
   ]
  },
  {
   "cell_type": "code",
   "execution_count": 42,
   "id": "e0da2758-809a-4c27-930c-dd9eae1ac2d3",
   "metadata": {},
   "outputs": [
    {
     "name": "stdout",
     "output_type": "stream",
     "text": [
      "['p', 'w', 's', 'k', 'i', 'l', 'l', 's']\n"
     ]
    }
   ],
   "source": [
    "#  Q7. Write a List Comprehension to iterate through the given string: ‘pwskills’.\n",
    "#  Expected output: ['p', 'w', 's', 'k', 'i', 'l', 'l', 's']\n",
    "\n",
    "str = \"pwskills\"\n",
    "\n",
    "lst = [i for i in str]\n",
    "print(lst)"
   ]
  },
  {
   "cell_type": "code",
   "execution_count": 44,
   "id": "1544bc37-165d-4d34-b1ac-fa3850d216a8",
   "metadata": {},
   "outputs": [
    {
     "data": {
      "text/plain": [
       "True"
      ]
     },
     "execution_count": 44,
     "metadata": {},
     "output_type": "execute_result"
    }
   ],
   "source": [
    "#  Q8. Write a python program to check whether a given number is Palindrome or not using a while loop.\n",
    "\n",
    "def Pal(n):\n",
    "    if n == n[::-1]:\n",
    "        return True\n",
    "    else:\n",
    "        return False\n",
    "Pal('101')"
   ]
  },
  {
   "cell_type": "code",
   "execution_count": 21,
   "id": "be8454e8-2d06-4484-af59-b7072d1e7cfb",
   "metadata": {},
   "outputs": [
    {
     "name": "stdout",
     "output_type": "stream",
     "text": [
      "[1, 3, 5, 7, 9, 11, 13, 15, 17, 19, 21, 23, 25, 27, 29, 31, 33, 35, 37, 39, 41, 43, 45, 47, 49, 51, 53, 55, 57, 59, 61, 63, 65, 67, 69, 71, 73, 75, 77, 79, 81, 83, 85, 87, 89, 91, 93, 95, 97, 99]\n"
     ]
    }
   ],
   "source": [
    "#  Q9. Write a code to print odd numbers from 1 to 100 using list comprehension.\n",
    "#  Note: Use a list comprehension to create a list from 1 to 100 and use another List comprehension to filter$\n",
    "#  out odd numbers.\n",
    "\n",
    "l1 = [i for i in range(1,101)]\n",
    "\n",
    "odd = [i for i in l1 if i % 2 != 0]\n",
    "print(odd)"
   ]
  }
 ],
 "metadata": {
  "kernelspec": {
   "display_name": "Python 3 (ipykernel)",
   "language": "python",
   "name": "python3"
  },
  "language_info": {
   "codemirror_mode": {
    "name": "ipython",
    "version": 3
   },
   "file_extension": ".py",
   "mimetype": "text/x-python",
   "name": "python",
   "nbconvert_exporter": "python",
   "pygments_lexer": "ipython3",
   "version": "3.10.8"
  }
 },
 "nbformat": 4,
 "nbformat_minor": 5
}
