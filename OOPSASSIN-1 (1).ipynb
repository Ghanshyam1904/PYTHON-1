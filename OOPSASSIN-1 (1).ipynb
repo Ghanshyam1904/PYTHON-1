{
 "cells": [
  {
   "cell_type": "code",
   "execution_count": 3,
   "id": "6becde51-9ec0-4cbd-9ecc-99102f20948a",
   "metadata": {},
   "outputs": [],
   "source": [
    "# Q1, Create a vehicle class with an init method having instance\n",
    "# variables as name_of_vehicle, max_speed\n",
    "# and average_of_vehicle.\n",
    "\n",
    "class Vehicle:\n",
    "    def __init__(self, name_of_vehicle, max_speed, average_of_vehicle):\n",
    "        self.name_of_vehicle = name_of_vehicle\n",
    "        self.max_speed = max_speed\n",
    "        self.average_of_vehicle = average_of_vehicle\n",
    "        \n",
    "V = Vehicle(\"Palisade\",220,47.2)"
   ]
  },
  {
   "cell_type": "code",
   "execution_count": 4,
   "id": "32ccbe0b-91e6-40e8-acb5-95a4265051ed",
   "metadata": {},
   "outputs": [
    {
     "data": {
      "text/plain": [
       "'Palisade'"
      ]
     },
     "execution_count": 4,
     "metadata": {},
     "output_type": "execute_result"
    }
   ],
   "source": [
    "V.name_of_vehicle"
   ]
  },
  {
   "cell_type": "code",
   "execution_count": 5,
   "id": "f1d92d21-793f-406c-813e-0fa067b8d404",
   "metadata": {},
   "outputs": [
    {
     "data": {
      "text/plain": [
       "220"
      ]
     },
     "execution_count": 5,
     "metadata": {},
     "output_type": "execute_result"
    }
   ],
   "source": [
    "V.max_speed"
   ]
  },
  {
   "cell_type": "code",
   "execution_count": 6,
   "id": "2db4ab9b-c18f-4f8e-8631-0eb4861ca912",
   "metadata": {},
   "outputs": [
    {
     "data": {
      "text/plain": [
       "47.2"
      ]
     },
     "execution_count": 6,
     "metadata": {},
     "output_type": "execute_result"
    }
   ],
   "source": [
    "V.average_of_vehicle"
   ]
  },
  {
   "cell_type": "code",
   "execution_count": 10,
   "id": "22f62f48-c983-40b6-8c85-e6573c3541df",
   "metadata": {},
   "outputs": [
    {
     "name": "stdout",
     "output_type": "stream",
     "text": [
      " Car name = Palisade \n",
      " Seating Capcity = 5\n"
     ]
    }
   ],
   "source": [
    "#  Q2. Create a child class car from the vehicle class created in Que 1, \n",
    "#  which will inherit the vehicle class.\n",
    "#  Create a method named seating_capacity which takes capacity as an argument \n",
    "#  and returns the name of\n",
    "#  the vehicle and its seating capacity.\n",
    "\n",
    "class Vehicle:\n",
    "    def __init__(self,name):\n",
    "        self.name = name\n",
    "        \n",
    "class Car(Vehicle):\n",
    "    def seating_capacity(self,capacity):\n",
    "        return \" Car name = {} \\n Seating Capcity = {}\".format(self.name,capacity)\n",
    "    \n",
    "C = Car(\"Palisade\")\n",
    "D = C.seating_capacity(5)\n",
    "\n",
    "print(D)"
   ]
  },
  {
   "cell_type": "code",
   "execution_count": 11,
   "id": "d7b9f04b-8f25-499d-8c42-9e7a5d016dcb",
   "metadata": {},
   "outputs": [],
   "source": [
    "# What is multiple inheritance? \n",
    "# Write a python code to demonstrate multiple inheritance.\n",
    "\n",
    "# Multiple Inheritence = The Multiple inheritence is the mechanism of Deriving a child class \n",
    "# from two Base classes\n",
    "\n",
    "class Father:\n",
    "    def fath(self):\n",
    "        print('This is Father class')\n",
    "class Mother:\n",
    "    def Moth(self):\n",
    "        print('This is Mother class')\n",
    "class Child(Father,Mother):\n",
    "    def Chi(self):\n",
    "        print('This is Child class')\n",
    "        \n",
    "C = Child()\n",
    "C."
   ]
  },
  {
   "cell_type": "code",
   "execution_count": 2,
   "id": "d05bb99f-6bc8-4c3c-81f7-944341c2ec7a",
   "metadata": {},
   "outputs": [
    {
     "data": {
      "text/plain": [
       "10"
      ]
     },
     "execution_count": 2,
     "metadata": {},
     "output_type": "execute_result"
    }
   ],
   "source": [
    "# Q4. What are getter and setter in python? Create a\n",
    "#  class and create a getter and a setter method in this class.\n",
    "\n",
    "# Setters :- Setters is the method in Object Oriented Programming language. Which is Used\n",
    "# initialized or Declare the private Variable(Ecncapsulated).\n",
    "\n",
    "# Getters : - Getters is the method in Object Oriented programming Language. Which is\n",
    "# used to get the variable(Encapsulated)\n",
    "\n",
    "class Encapsulated:\n",
    "    def __init__(self):\n",
    "        self.__no = 0\n",
    "        \n",
    "    def Setters(self,n):\n",
    "        self.__no = n\n",
    "        \n",
    "    def Getters(self):\n",
    "        return self.__no\n",
    "E = Encapsulated()\n",
    "E.Setters(10)\n",
    "\n",
    "E.Getters()"
   ]
  },
  {
   "cell_type": "code",
   "execution_count": 5,
   "id": "f54d06d8-bb4b-4902-9bfa-3d6dce6aa3f1",
   "metadata": {},
   "outputs": [
    {
     "name": "stdout",
     "output_type": "stream",
     "text": [
      "Welcome to Data science\n",
      "Welcome to Dev Ops\n"
     ]
    }
   ],
   "source": [
    "#  Q5.What is method overriding in python? \n",
    "#  Write a python code to demonstrate method overriding.\n",
    "\n",
    "# Method Overriding :- Method Overriding is the meachanism in Abstraction\n",
    "# to create a virtual class Which Does Not have Body and Don not have Method body\n",
    "\n",
    "class Abstract:\n",
    "    def Syllabus(self):\n",
    "        pass\n",
    "\n",
    "class Data_Science(Abstract):\n",
    "    def Syllabus(self):\n",
    "        print(\"Welcome to Data science\")\n",
    "        \n",
    "class Dev_Ops(Abstract):\n",
    "    def Syllabus(self):\n",
    "        print('Welcome to Dev Ops')\n",
    "        \n",
    "Data = Data_Science()\n",
    "Dev = Dev_Ops()\n",
    "\n",
    "Data.Syllabus()\n",
    "Dev.Syllabus()"
   ]
  }
 ],
 "metadata": {
  "kernelspec": {
   "display_name": "Python 3 (ipykernel)",
   "language": "python",
   "name": "python3"
  },
  "language_info": {
   "codemirror_mode": {
    "name": "ipython",
    "version": 3
   },
   "file_extension": ".py",
   "mimetype": "text/x-python",
   "name": "python",
   "nbconvert_exporter": "python",
   "pygments_lexer": "ipython3",
   "version": "3.10.8"
  }
 },
 "nbformat": 4,
 "nbformat_minor": 5
}
