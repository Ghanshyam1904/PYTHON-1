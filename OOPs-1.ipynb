{
 "cells": [
  {
   "cell_type": "code",
   "execution_count": 7,
   "id": "31470b04-9468-4da2-9cb5-0d0ca8c1888e",
   "metadata": {},
   "outputs": [
    {
     "name": "stdin",
     "output_type": "stream",
     "text": [
      "Enter Any Number =  5\n"
     ]
    },
    {
     "name": "stdout",
     "output_type": "stream",
     "text": [
      "Factorial is = 120\n"
     ]
    }
   ],
   "source": [
    "# Q1. Explain Class and Object with respect to \n",
    "# Object-Oriented Programming. Give a suitable example.\n",
    "\n",
    "'''Class :- Class is the collection of methods with its respect object. By Using class \n",
    " We can develop User-Defined Data Type'''\n",
    "\n",
    "'''Object :- Object is the instance of class. We can Access class methods Using Onject'''\n",
    "\n",
    "class Factorial:\n",
    "    def __init__(self,no):\n",
    "        self.no = no\n",
    "        self.fact = 1\n",
    "    def Result(self):\n",
    "        for i in range(1,self.no+1):\n",
    "            self.fact *= i\n",
    "        print('Factorial is = {}'.format(self.fact))\n",
    "        \n",
    "no = int(input('Enter Any Number = '))\n",
    "F = Factorial(no)\n",
    "F.Result()"
   ]
  },
  {
   "cell_type": "markdown",
   "id": "347c7752-40c7-4f75-810b-aee5a37c2e45",
   "metadata": {},
   "source": [
    "# Q2. Name the four pillars of OOPs.\n",
    "1) Data Abstraction\n",
    "2) Inheritence\n",
    "3) Data Encapsulation\n",
    "4) Polymorphism"
   ]
  },
  {
   "cell_type": "markdown",
   "id": "9725e7d0-7a60-4dba-abac-6cd585e949a0",
   "metadata": {},
   "source": [
    "# Q3. Explain why the __init__() function is used. Give a suitable example.\n",
    "__init__():- This Method is also called as constructor. By using constructor we can\n",
    "initialized values when object creation."
   ]
  },
  {
   "cell_type": "code",
   "execution_count": 10,
   "id": "bb1a65d8-c96a-4ecd-9f23-c1c4a9ac1e7f",
   "metadata": {},
   "outputs": [
    {
     "data": {
      "text/plain": [
       "10"
      ]
     },
     "execution_count": 10,
     "metadata": {},
     "output_type": "execute_result"
    }
   ],
   "source": [
    "class Construct:\n",
    "    def __init__(self,no):\n",
    "        self.no = no\n",
    "\n",
    "con = Construct(10)\n",
    "con.no"
   ]
  },
  {
   "cell_type": "markdown",
   "id": "c80d06c0-c978-4b30-ba43-621a9ac4b6cd",
   "metadata": {},
   "source": [
    "# Q4. Why self is used in OOPs?\n",
    "self:- self is the first parameter in class. it holds current class address and gives reffernce to class variable"
   ]
  },
  {
   "cell_type": "markdown",
   "id": "ed4a16e2-0c63-41f8-8a1c-725ff567f912",
   "metadata": {},
   "source": [
    "# Q5. What is inheritance? Give an example for each type of inheritance.\n",
    "\n",
    "\n",
    " Inheritence is the mechanism of aquired base class properties to another class to achieve code re-usability and faster execution"
   ]
  },
  {
   "cell_type": "code",
   "execution_count": 3,
   "id": "07de19dd-da67-4100-8991-5e8fe9ae086a",
   "metadata": {},
   "outputs": [
    {
     "ename": "SyntaxError",
     "evalue": "incomplete input (1215388274.py, line 9)",
     "output_type": "error",
     "traceback": [
      "\u001b[0;36m  Cell \u001b[0;32mIn[3], line 9\u001b[0;36m\u001b[0m\n\u001b[0;31m    class Child(Father,Mother):\u001b[0m\n\u001b[0m                               ^\u001b[0m\n\u001b[0;31mSyntaxError\u001b[0m\u001b[0;31m:\u001b[0m incomplete input\n"
     ]
    }
   ],
   "source": [
    "class Father:\n",
    "    def Meth1(self):\n",
    "        print('This is father class')\n",
    "\n",
    "class Mother:\n",
    "    def meth2(self):\n",
    "        print('This is Mother class')\n",
    "        \n",
    "class Child(Father,Mother):\n",
    "    def meth3(self):\n",
    "        print('Child access Mother and father properities')\n",
    "\n",
    "C = Child()\n",
    "\n",
    "C.Meth1()\n",
    "c"
   ]
  },
  {
   "cell_type": "code",
   "execution_count": null,
   "id": "26ef2949-e6ed-42dc-bde1-dc2c66adb8c1",
   "metadata": {},
   "outputs": [],
   "source": []
  }
 ],
 "metadata": {
  "kernelspec": {
   "display_name": "Python 3 (ipykernel)",
   "language": "python",
   "name": "python3"
  },
  "language_info": {
   "codemirror_mode": {
    "name": "ipython",
    "version": 3
   },
   "file_extension": ".py",
   "mimetype": "text/x-python",
   "name": "python",
   "nbconvert_exporter": "python",
   "pygments_lexer": "ipython3",
   "version": "3.10.8"
  }
 },
 "nbformat": 4,
 "nbformat_minor": 5
}
