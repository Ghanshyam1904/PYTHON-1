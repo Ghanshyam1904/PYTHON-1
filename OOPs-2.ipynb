{
 "cells": [
  {
   "cell_type": "markdown",
   "id": "24680a3f-fabd-4731-b297-80733393d603",
   "metadata": {},
   "source": [
    "# Q1. What is Abstraction in OOps? Explain with an example.\n",
    "Abstraction is the process of creating a class with have no body only template \n",
    "and create another class and inherit old class"
   ]
  },
  {
   "cell_type": "code",
   "execution_count": 6,
   "id": "b9557442-c29f-4fed-8fed-1d087eba493a",
   "metadata": {},
   "outputs": [],
   "source": [
    "import abc\n",
    "class Sample:\n",
    "    abc.abstractmethod\n",
    "    def area(self):\n",
    "        pass\n",
    "    \n",
    "    abc.abstractmethod\n",
    "    def perimeter(self):\n",
    "        pass\n",
    "\n",
    "class Square(Sample):\n",
    "    def __init__(self,length,breadth,radius):\n",
    "        self.length = length\n",
    "        self.breadth = breadth\n",
    "        self.radius = radius\n",
    "    \n",
    "    def area(self):\n",
    "        self.area = self.length * self.breadth\n",
    "        print(self.area)\n",
    "        \n",
    "    def perimeter(self):\n",
    "        self.peri = 2*3.14*self.radius**2\n",
    "        print(self.peri)"
   ]
  },
  {
   "cell_type": "code",
   "execution_count": 7,
   "id": "a01ee7f3-3800-47e0-b4a5-179c092690dd",
   "metadata": {},
   "outputs": [
    {
     "name": "stdout",
     "output_type": "stream",
     "text": [
      "15\n",
      "25.12\n"
     ]
    }
   ],
   "source": [
    "Sq = Square(5,3,2)\n",
    "Sq.area()\n",
    "Sq.perimeter()"
   ]
  },
  {
   "cell_type": "markdown",
   "id": "bdb403f5-adc6-4fb6-a359-c13477f49687",
   "metadata": {},
   "source": [
    "# Q2. Differentiate between Abstraction and Encapsulation. Explain with an example.\n",
    "\n",
    "Abstraction :- 1) Abstraction is hiding the data\n",
    "               2) Abstraction have No Body\n",
    "               3) It create a skeleton and inherit the skeleton in another class\n",
    "\n",
    "Encapsulation :- 1) Encapsulation makes data or method Private\n",
    "                 2) \"__\" underscore is used to denote Encapsulation"
   ]
  },
  {
   "cell_type": "code",
   "execution_count": 5,
   "id": "8389a623-5c8f-4f19-92e9-0a1a098592a2",
   "metadata": {},
   "outputs": [],
   "source": [
    "import abc\n",
    "class Sample:\n",
    "    abc.abstractmethod\n",
    "    def area(self):\n",
    "        pass\n",
    "    \n",
    "    abc.abstractmethod\n",
    "    def perimeter(self):\n",
    "        pass\n",
    "\n",
    "class Square(Sample):\n",
    "    def __init__(self,length,breadth,radius):\n",
    "        self.__length = length\n",
    "        self.__breadth = breadth\n",
    "        self.__radius = radius\n",
    "    \n",
    "    def area(self):\n",
    "        self.__area = self.__length * self.__breadth\n",
    "        print(self.__area)\n",
    "        \n",
    "    def perimeter(self):\n",
    "        self.__peri = 2*3.14*self.__radius**2\n",
    "        print(self.__peri)"
   ]
  },
  {
   "cell_type": "code",
   "execution_count": 6,
   "id": "c145bc98-9adc-448f-a0f4-50941ee5705a",
   "metadata": {},
   "outputs": [
    {
     "name": "stdout",
     "output_type": "stream",
     "text": [
      "15\n",
      "25.12\n"
     ]
    }
   ],
   "source": [
    "Sq = Square(5,3,2)\n",
    "Sq.area()\n",
    "Sq.perimeter()"
   ]
  },
  {
   "cell_type": "markdown",
   "id": "2f197dfc-d8b3-42a0-b843-34d72c3e74b3",
   "metadata": {},
   "source": [
    "# Q4. How can we achieve data abstraction?\n",
    "\n",
    "Data Abstraction :- \n",
    "        By using Inheritance concept we can inherit abstract class to Achieve abstraction"
   ]
  },
  {
   "cell_type": "markdown",
   "id": "c34349bf-2275-4a21-b977-5a7a6317f851",
   "metadata": {},
   "source": [
    "# Q5. Can we create an instance of an abstract class? Explain your answer.\n",
    "\n",
    "No We can not create instance of the abstract class because there is no body. We can inherit abstract class to another class then we can create instance of another class"
   ]
  }
 ],
 "metadata": {
  "kernelspec": {
   "display_name": "Python 3 (ipykernel)",
   "language": "python",
   "name": "python3"
  },
  "language_info": {
   "codemirror_mode": {
    "name": "ipython",
    "version": 3
   },
   "file_extension": ".py",
   "mimetype": "text/x-python",
   "name": "python",
   "nbconvert_exporter": "python",
   "pygments_lexer": "ipython3",
   "version": "3.10.8"
  }
 },
 "nbformat": 4,
 "nbformat_minor": 5
}
