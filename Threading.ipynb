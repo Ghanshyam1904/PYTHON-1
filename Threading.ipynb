{
 "cells": [
  {
   "cell_type": "markdown",
   "id": "2a94429d-ecbc-4449-a692-5eb4c113744e",
   "metadata": {},
   "source": [
    "##What is multithreading in python? hy is it used? Name the module used to handle threads in python"
   ]
  },
  {
   "cell_type": "raw",
   "id": "e52fc3ca-a8b0-4617-ac00-a065ac6f4e83",
   "metadata": {},
   "source": [
    "What is multithreding :- Multithreding Provide concurrent / parallel execution\n",
    "Why it is Used :- It Provide less amout of execution it create a single thread and put any fun in thread it create a separate execution of that function\n",
    "\n",
    "Module :- Multithreading"
   ]
  },
  {
   "cell_type": "markdown",
   "id": "368f06c8-c241-4b78-94b0-33b008b5d28a",
   "metadata": {},
   "source": [
    "Why threading module used ? rite the use of the following functions"
   ]
  },
  {
   "cell_type": "raw",
   "id": "88828f10-dfed-43cf-b6e1-1398c05bb668",
   "metadata": {},
   "source": [
    "Threading :- Threading Module is used to create Multiple Threads to execute multiple function in same time"
   ]
  },
  {
   "cell_type": "raw",
   "id": "e0aa28f4-4d62-4b40-854f-5ea07bd7593e",
   "metadata": {},
   "source": [
    "1) activeCount :- activeCount provide Number of threads  present in a program\n",
    "2) currentThread :- current thread provide current running thread\n",
    "3) enumerate :- Enumerate is a iterable object it provide indexes to the values in iterable object"
   ]
  },
  {
   "cell_type": "markdown",
   "id": "e551cbff-dd6a-4506-9d4c-cb5d6ee4c2e1",
   "metadata": {},
   "source": [
    " Explain the following functions"
   ]
  },
  {
   "cell_type": "raw",
   "id": "5025cd22-ab09-424c-98d9-d7626898255f",
   "metadata": {},
   "source": [
    "1) Run():- Run is used to Run a thread it is Called When we initialize start()\n",
    "2) Start():- Start Method is used to start/run a thread \n",
    "3) join() :- Join is used To join a subthreads to main Thread\n",
    "4) isAlive() :- isAlive is used to check wheather a thread is currently running or not if runnig it is True Otherwise False"
   ]
  },
  {
   "cell_type": "markdown",
   "id": "641eaa40-391c-4338-b3c8-0b096813dad0",
   "metadata": {},
   "source": [
    "Write a python program to create two threads. Thread one must print the list of squares and thread\n",
    "two must print the list of cubes"
   ]
  },
  {
   "cell_type": "code",
   "execution_count": 3,
   "id": "544680d8-7711-4802-adc3-a74c17718cf3",
   "metadata": {},
   "outputs": [
    {
     "name": "stdout",
     "output_type": "stream",
     "text": [
      "[4, 9, 16, 25, 36, 49]\n",
      "[8, 27, 64, 125, 216, 343]\n"
     ]
    }
   ],
   "source": [
    "import threading\n",
    "def Square(lst):\n",
    "    l1 = list(map(lambda x:x**2,lst))\n",
    "    print(l1)\n",
    "    \n",
    "def Cube(lst):\n",
    "    l1 = list(map(lambda x:x**3,lst))\n",
    "    print(l1)\n",
    "\n",
    "ls = [2,3,4,5,6,7]\n",
    "t1 = threading.Thread(target=Square,args=(ls,))\n",
    "t2 = threading.Thread(target=Cube,args=(ls,))\n",
    "\n",
    "t1.start()\n",
    "t2.start()"
   ]
  },
  {
   "cell_type": "markdown",
   "id": "80f3db33-9476-4b7b-9d0e-dbe8aeb19a7d",
   "metadata": {},
   "source": [
    "State advantages and disadvantages of multithreading"
   ]
  },
  {
   "cell_type": "raw",
   "id": "79941499-611d-47d3-987a-f35d5971faaa",
   "metadata": {},
   "source": [
    "Advantages :- \n",
    "1) The advantage of Concurrent  execution is that to get less execution time.\n",
    "2) Multithreaded program can run faster on computer System with multiple cpu\n",
    "3) Some Program is Easy to express using concurrency"
   ]
  },
  {
   "cell_type": "raw",
   "id": "33e0a168-f9eb-4f71-8751-7e63b1602d1b",
   "metadata": {},
   "source": [
    "Disadvantage:-\n",
    "1) Difficult tp read. Multithreaded Applications are not easy to Write\n",
    "2) Difficult to Debug and testing\n",
    "3) Multiple thread work on single resourses then Deadlock is Occur"
   ]
  },
  {
   "cell_type": "markdown",
   "id": "eb28616e-81fb-44ac-9e48-7f009d7772e2",
   "metadata": {},
   "source": [
    "Explain deadlocks and race conditions."
   ]
  },
  {
   "cell_type": "raw",
   "id": "ea4989cb-abc1-47c2-acab-a8b808099f74",
   "metadata": {},
   "source": [
    "Deadlock :- Deadlock is occur when Multiple Threads are Work on Single function same as race condition"
   ]
  },
  {
   "cell_type": "code",
   "execution_count": 6,
   "id": "033cf0be-5dde-4bff-81f2-f71fa9153748",
   "metadata": {},
   "outputs": [
    {
     "name": "stdout",
     "output_type": "stream",
     "text": [
      "--------------------------------------------------\n",
      "0\n",
      "--------------------------------------------------\n",
      "--------------------------------------------------\n",
      "1\n",
      "--------------------------------------------------\n",
      "--------------------------------------------------\n",
      "4\n",
      "--------------------------------------------------\n",
      "--------------------------------------------------\n",
      "9\n",
      "--------------------------------------------------\n",
      "--------------------------------------------------\n",
      "16\n",
      "--------------------------------------------------\n",
      "--------------------------------------------------\n",
      "25\n",
      "--------------------------------------------------\n",
      "--------------------------------------------------\n",
      "36\n",
      "--------------------------------------------------\n",
      "--------------------------------------------------\n",
      "49\n",
      "--------------------------------------------------\n",
      "--------------------------------------------------\n",
      "64\n",
      "--------------------------------------------------\n",
      "--------------------------------------------------\n",
      "81\n",
      "--------------------------------------------------\n",
      "--------------------------------------------------\n",
      "0\n",
      "--------------------------------------------------\n",
      "--------------------------------------------------\n",
      "1\n",
      "--------------------------------------------------\n",
      "--------------------------------------------------\n",
      "4\n",
      "--------------------------------------------------\n",
      "--------------------------------------------------\n",
      "9\n",
      "--------------------------------------------------\n",
      "--------------------------------------------------\n",
      "16\n",
      "--------------------------------------------------\n",
      "--------------------------------------------------\n",
      "0\n",
      "--------------------------------------------------\n",
      "--------------------------------------------------\n",
      "1\n",
      "--------------------------------------------------\n",
      "--------------------------------------------------\n",
      "4\n",
      "--------------------------------------------------\n",
      "--------------------------------------------------\n",
      "9\n",
      "--------------------------------------------------\n",
      "--------------------------------------------------\n",
      "16\n",
      "--------------------------------------------------\n",
      "--------------------------------------------------\n",
      "25\n",
      "--------------------------------------------------\n",
      "--------------------------------------------------\n",
      "36\n",
      "--------------------------------------------------\n",
      "--------------------------------------------------\n",
      "49\n",
      "--------------------------------------------------\n",
      "--------------------------------------------------\n",
      "64\n",
      "--------------------------------------------------\n",
      "--------------------------------------------------\n",
      "81\n",
      "--------------------------------------------------\n",
      "--------------------------------------------------\n",
      "100\n",
      "--------------------------------------------------\n",
      "--------------------------------------------------\n",
      "121\n",
      "--------------------------------------------------\n"
     ]
    }
   ],
   "source": [
    "import threading\n",
    "def Square(n):\n",
    "    for i in range(n):\n",
    "        print('-'*50)\n",
    "        print(i**2)\n",
    "        print('-'*50)\n",
    "\n",
    "t1 = threading.Thread(target=Square,args=(10,))\n",
    "t2 = threading.Thread(target=Square,args=(5,))\n",
    "t3 = threading.Thread(target=Square,args=(12,))\n",
    "\n",
    "t1.start()\n",
    "t2.start()\n",
    "t3.start()"
   ]
  },
  {
   "cell_type": "code",
   "execution_count": null,
   "id": "318f42b7-f9c1-41d8-ad11-41d13183ba66",
   "metadata": {},
   "outputs": [],
   "source": []
  }
 ],
 "metadata": {
  "kernelspec": {
   "display_name": "Python 3 (ipykernel)",
   "language": "python",
   "name": "python3"
  },
  "language_info": {
   "codemirror_mode": {
    "name": "ipython",
    "version": 3
   },
   "file_extension": ".py",
   "mimetype": "text/x-python",
   "name": "python",
   "nbconvert_exporter": "python",
   "pygments_lexer": "ipython3",
   "version": "3.10.8"
  }
 },
 "nbformat": 4,
 "nbformat_minor": 5
}
