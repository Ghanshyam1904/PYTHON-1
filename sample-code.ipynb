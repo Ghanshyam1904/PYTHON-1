{
 "cells": [
  {
   "cell_type": "markdown",
   "metadata": {},
   "source": [
    "# Writing Your Python Code"
   ]
  },
  {
   "cell_type": "markdown",
   "metadata": {},
   "source": [
    "**Say \"Hello\" to the world in Python**"
   ]
  },
  {
   "cell_type": "markdown",
   "metadata": {},
   "source": [
    "`[Tip]: To execute the Python code in the code cell below, click on the cell to select it and press Shift + Enter.`"
   ]
  },
  {
   "cell_type": "code",
   "execution_count": 1,
   "metadata": {},
   "outputs": [
    {
     "name": "stdout",
     "output_type": "stream",
     "text": [
      "Hello, Neurons.\n"
     ]
    }
   ],
   "source": [
    "# Try your first python code\n",
    "\n",
    "print('Hello, Neurons.')"
   ]
  },
  {
   "cell_type": "markdown",
   "metadata": {},
   "source": [
    "- After executing the cell above, you should see that Python prints `Hello, Neurons` Congratulations on running your Python code!"
   ]
  },
  {
   "cell_type": "code",
   "execution_count": 2,
   "metadata": {},
   "outputs": [
    {
     "name": "stdout",
     "output_type": "stream",
     "text": [
      "3.9.12 (main, Apr  4 2022, 05:22:27) [MSC v.1916 64 bit (AMD64)]\n"
     ]
    }
   ],
   "source": [
    "# Check the Python Version\n",
    "\n",
    "import sys\n",
    "print(sys.version)"
   ]
  },
  {
   "cell_type": "markdown",
   "metadata": {},
   "source": [
    "To write comments in Python, use the number symbol `#` before writing your comment. When you run your code, Python will ignore everything past the # on a given line."
   ]
  },
  {
   "cell_type": "code",
   "execution_count": 3,
   "metadata": {},
   "outputs": [],
   "source": [
    "# print('Hi')"
   ]
  },
  {
   "cell_type": "code",
   "execution_count": 4,
   "metadata": {},
   "outputs": [],
   "source": [
    "# create a function\n",
    "def addition(a, b):\n",
    "    '''\n",
    "    This is a function is to perform addition operation\n",
    "    '''\n",
    "    print('Performing addition operation')\n",
    "    output = a + b\n",
    "    print(f'{a} + {b} is =', output)\n",
    "    return output"
   ]
  },
  {
   "cell_type": "code",
   "execution_count": 5,
   "metadata": {},
   "outputs": [
    {
     "name": "stdout",
     "output_type": "stream",
     "text": [
      "Performing addition operation\n",
      "2 + 1 is = 3\n"
     ]
    },
    {
     "data": {
      "text/plain": [
       "3"
      ]
     },
     "execution_count": 5,
     "metadata": {},
     "output_type": "execute_result"
    }
   ],
   "source": [
    "addition(2, 1)"
   ]
  },
  {
   "cell_type": "code",
   "execution_count": 1,
   "metadata": {},
   "outputs": [
    {
     "name": "stdout",
     "output_type": "stream",
     "text": [
      "Hello\n"
     ]
    }
   ],
   "source": [
    "print('Hello')"
   ]
  },
  {
   "cell_type": "code",
   "execution_count": 2,
   "metadata": {},
   "outputs": [
    {
     "name": "stdout",
     "output_type": "stream",
     "text": [
      "Ghanshyam\n",
      "[10, 20, 'Ram', 34.56]\n",
      "45.214\n",
      "(45.5, 48, 14, 'Krishna', 45)\n"
     ]
    }
   ],
   "source": [
    "# Assignment 1 :-\n",
    "\n",
    "str1 = 'Ghanshyam'\n",
    "lst = [10,20,'Ram',34.56]\n",
    "flt = 45.214\n",
    "tup = (45.5,48,14,'Krishna',45)\n",
    "\n",
    "print(str1)\n",
    "print(lst)\n",
    "print(flt)\n",
    "print(tup)"
   ]
  },
  {
   "cell_type": "raw",
   "metadata": {},
   "source": [
    "(i) var1 = ‘ ‘\n",
    "ii) var2 = ‘[ DS , ML , Python]’\n",
    "(iii) var3 = [ ‘DS’ , ’ML’ , ‘Python’ ]\n",
    "(iv) var4 = 1.\n",
    "\n",
    "1) String\n",
    "2) String\n",
    "3) list\n",
    "4) int"
   ]
  },
  {
   "cell_type": "raw",
   "metadata": {},
   "source": [
    "/ = This is an Division Operator (a/b)\n",
    "// = This is an Floor division operator it can't return remainder\n",
    "% = This is an mod operator it will give remainder\n",
    "** = This is an power opearator returns the power"
   ]
  },
  {
   "cell_type": "code",
   "execution_count": null,
   "metadata": {},
   "outputs": [],
   "source": []
  },
  {
   "cell_type": "code",
   "execution_count": 3,
   "metadata": {},
   "outputs": [
    {
     "name": "stdout",
     "output_type": "stream",
     "text": [
      "10 <class 'int'>\n",
      "20 <class 'int'>\n",
      "30 <class 'int'>\n",
      "Ram <class 'str'>\n",
      "56.76 <class 'float'>\n"
     ]
    }
   ],
   "source": [
    "#Q4. Create a list of length 10 of your choice containing multiple types of data. Using for loop print the\n",
    "#element and its data type.\n",
    "\n",
    "lst = [10,20,30,'Ram',56.76]\n",
    "\n",
    "for i in lst:\n",
    "    print(i,type(i))\n",
    "\n",
    "\n"
   ]
  },
  {
   "cell_type": "code",
   "execution_count": 11,
   "metadata": {},
   "outputs": [
    {
     "name": "stdin",
     "output_type": "stream",
     "text": [
      " 10\n",
      " 5\n"
     ]
    },
    {
     "name": "stdout",
     "output_type": "stream",
     "text": [
      "count is =  1\n"
     ]
    }
   ],
   "source": [
    "#Using a while loop, verify if the number A is purely divisible by number B and if so then how many\n",
    "#times it can be divisible.\n",
    "\n",
    "a = int(input())\n",
    "b = int(input())\n",
    "cnt = 0\n",
    "while a:\n",
    "    if a % b == 0:\n",
    "       cnt = cnt + 1\n",
    "    break\n",
    "print('count is = ',cnt)"
   ]
  },
  {
   "cell_type": "code",
   "execution_count": 10,
   "metadata": {},
   "outputs": [
    {
     "name": "stdout",
     "output_type": "stream",
     "text": [
      "3\n",
      "6\n",
      "9\n",
      "12\n",
      "15\n",
      "18\n",
      "21\n",
      "24\n"
     ]
    }
   ],
   "source": [
    "#Create a list containing 25 int type data. Using for loop and if-else condition print if the element is\n",
    "#divisible by 3 or not.\n",
    "\n",
    "lst = [1,2,3,4,5,6,7,8,9,10,11,12,13,14,15,16,17,18,19,20,21,22,23,24,25]\n",
    "lst1 = list()\n",
    "\n",
    "for i in range(1,25):\n",
    "    lst1.append(i)\n",
    "    if i % 3 == 0:\n",
    "        print(i)"
   ]
  },
  {
   "cell_type": "raw",
   "metadata": {},
   "source": [
    "What do you understand about mutable and immutable data types? Give examples for both showing\n",
    "this property.\n",
    "\n",
    "Mutable :- Mutable means we can modify the elements on same address location\n",
    "Ex:- List , set\n",
    "\n",
    "Immutable :- Immutable means we can't modify the element on Same address location\n",
    "Ex:- string , tuple\n"
   ]
  },
  {
   "cell_type": "code",
   "execution_count": null,
   "metadata": {},
   "outputs": [],
   "source": []
  }
 ],
 "metadata": {
  "kernelspec": {
   "display_name": "Python 3 (ipykernel)",
   "language": "python",
   "name": "python3"
  },
  "language_info": {
   "codemirror_mode": {
    "name": "ipython",
    "version": 3
   },
   "file_extension": ".py",
   "mimetype": "text/x-python",
   "name": "python",
   "nbconvert_exporter": "python",
   "pygments_lexer": "ipython3",
   "version": "3.10.8"
  }
 },
 "nbformat": 4,
 "nbformat_minor": 4
}
